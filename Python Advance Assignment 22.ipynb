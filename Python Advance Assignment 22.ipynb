{
 "cells": [
  {
   "cell_type": "code",
   "execution_count": null,
   "id": "ef64db19-036d-46cb-b318-a3f6ee1f0a65",
   "metadata": {},
   "outputs": [],
   "source": [
    "#1. What are the benefits of the built-in array package, if any?\n",
    "\n",
    "Ans. Arrays represent multiple data items of the same type using a single name. In arrays, the elements can be accessed randomly by \n",
    "using the index number. Arrays allocate memory in contiguous memory locations for all its elements. Hence there is no chance of extra memory \n",
    "being allocated in case of arrays. This avoids memory overflow or shortage of memory in arrays."
   ]
  },
  {
   "cell_type": "code",
   "execution_count": null,
   "id": "c7fcb025-3dcb-4769-84fd-4f828c3a8e70",
   "metadata": {},
   "outputs": [],
   "source": [
    "#2. What are some of the array package's limitations ?\n",
    "\n",
    "Ans. The number of elements to be stored in an array should be known in advance. \n",
    "An array is a static structure (which means the array is of fixed size). Once declared the size of the array cannot be modified. \n",
    "The memory which is allocated to it cannot be increased or decreased.\n",
    "Insertion and deletion are quite difficult in an array as the elements are stored in consecutive memory locations and the shifting operation is costly.\n",
    "Allocating more memory than the requirement leads to wastage of memory space and less allocation of memory also leads to a problem"
   ]
  },
  {
   "cell_type": "code",
   "execution_count": null,
   "id": "9e2e0e89-d711-4997-9fae-5b04e8b6b7ec",
   "metadata": {},
   "outputs": [],
   "source": [
    "#3. Describe the main differences between the array and numpy packages ?\n",
    "\n",
    "Ans. The array package doesn't provide any help with numerical calculation with the items insdie it in number form while NumPy give you a wide variety of numerical operations.\n",
    "An array is a single dimensional entity which hold the numerical data, while numpy can have more than 1 dimension.\n",
    "In case of array, item can be accessed by its index position and it is easy task while in numpy item is accessed by its column and row index, which makes it slightly time taking. Same goes with appending operation.\n",
    "In case of array we do not form a tabular structure, while in numpy it forms a tabular structure"
   ]
  },
  {
   "cell_type": "code",
   "execution_count": null,
   "id": "9632f2a8-00c0-4403-bb13-bd44b197a3ed",
   "metadata": {},
   "outputs": [],
   "source": [
    "#4.  Explain the distinctions between the empty, ones, and zeros functions ?\n",
    "\n",
    "Ans. The distinctions between the empty, ones, and zero functions are as follows :\n",
    "\n",
    "*Empty function: An empty function is a function that does not contain any statement within its body. If you try to write a function definition without any statement in python ,it will return an error. To avoid this, we use pass statement. pass is a special statement in Python that does nothing. It only works as a dummy statement.\n",
    "*Ones: This function returns a new array of given shape and data type, where the element’s value is 1.\n",
    "*Zeros: This function returns a new array of given shape and data type, where the element’s value is 0."
   ]
  },
  {
   "cell_type": "code",
   "execution_count": null,
   "id": "2772eea6-eff8-4263-80ad-6fa295c0f38f",
   "metadata": {},
   "outputs": [],
   "source": [
    "#5. In the fromfunction function, which is used to construct new arrays, what is the role of the callable argument ?\n",
    "\n",
    "Ans. Its function is to execute the function over each coordinate and the resulting array. The function is called with N parameters, where N is the rank of shape.\n",
    "Each parameter represents the coordinates of the array varying along a specific axis."
   ]
  },
  {
   "cell_type": "code",
   "execution_count": null,
   "id": "0af2c833-3b14-49f6-9e33-5ed60368fab0",
   "metadata": {},
   "outputs": [],
   "source": [
    "#6. What happens when a numpy array is combined with a single-value operand (a scalar, such as an int or a floating-point value) through addition, as in the expression A + n ?\n",
    "\n",
    "Ans. If any scaler value such as integer is added to the numpy array then all the elements inside the array will add that value in it."
   ]
  },
  {
   "cell_type": "code",
   "execution_count": null,
   "id": "27dce758-90fb-4c42-944e-4a88a6c3095d",
   "metadata": {},
   "outputs": [],
   "source": [
    "#7. Can array-to-scalar operations use combined operation-assign operators (such as += or *=)? What is the outcome ?\n",
    "\n",
    "Ans. It will carry out provided operation on all elements of array."
   ]
  },
  {
   "cell_type": "code",
   "execution_count": null,
   "id": "f8b7e357-7122-4e4f-af88-64f9846323c4",
   "metadata": {},
   "outputs": [],
   "source": [
    "#8.  Does a numpy array contain fixed-length strings? What happens if you allocate a longer string to one of these arrays ?\n",
    "\n",
    "Ans. Yes, it is possible that we can include a string of fixed length in numpy array. The dtype of any numpy array containing string values \n",
    "is the maximum length of any string present in the array.Once set, it will only be able to store new string having length not more than the \n",
    "maximum length at the time of the creation. If we try to reassign some another string value having length greater than the maximum length of\n",
    "the existing elements, it simply discards all the values beyond the maximum length accept upto those values which are under the limit."
   ]
  },
  {
   "cell_type": "code",
   "execution_count": null,
   "id": "1a27766c-a96d-42c8-81b9-305790cc5ffa",
   "metadata": {},
   "outputs": [],
   "source": [
    "#9. What happens when you combine two numpy arrays using an operation like addition (+) or multiplication (*)? What are the conditions for combining two numpy arrays ?\n",
    "\n",
    "Ans. It will simply add or multiply element to element at same position."
   ]
  },
  {
   "cell_type": "code",
   "execution_count": null,
   "id": "78d553c8-6c99-4e31-b211-906b06e7ec43",
   "metadata": {},
   "outputs": [],
   "source": [
    "#10. What is the best way to use a Boolean array to mask another array ?\n",
    "\n",
    "Ans. The best way to use a Boolean array to mask another array is by Using masked_where of numpy package."
   ]
  },
  {
   "cell_type": "code",
   "execution_count": null,
   "id": "d7466c7f-5084-4dea-aa6a-3d99a48d385c",
   "metadata": {},
   "outputs": [],
   "source": [
    "#11. What are three different ways to get the standard deviation of a wide collection of data using both standard Python and its packages? Sort the three of them by how quickly they execute ?\n",
    "\n",
    "Ans. np.std and math package can be used individually."
   ]
  },
  {
   "cell_type": "code",
   "execution_count": null,
   "id": "0761f471-6858-4b4f-a356-4ca0760f66ab",
   "metadata": {},
   "outputs": [],
   "source": [
    "#12. What is the dimensionality of a Boolean mask-generated array ?\n",
    "\n",
    "Ans. It will have same dimensionality as input array."
   ]
  }
 ],
 "metadata": {
  "kernelspec": {
   "display_name": "Python 3 (ipykernel)",
   "language": "python",
   "name": "python3"
  },
  "language_info": {
   "codemirror_mode": {
    "name": "ipython",
    "version": 3
   },
   "file_extension": ".py",
   "mimetype": "text/x-python",
   "name": "python",
   "nbconvert_exporter": "python",
   "pygments_lexer": "ipython3",
   "version": "3.10.6"
  }
 },
 "nbformat": 4,
 "nbformat_minor": 5
}
